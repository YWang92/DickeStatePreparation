{
 "cells": [
  {
   "cell_type": "code",
   "execution_count": 4,
   "metadata": {},
   "outputs": [],
   "source": [
    "import numpy as np\n",
    "import scipy.special\n",
    "import time"
   ]
  },
  {
   "cell_type": "code",
   "execution_count": 5,
   "metadata": {},
   "outputs": [],
   "source": [
    "def preparation(gamma, repeats, K = 20):\n",
    "    #K is the number of phase estimation rounds of standard phase estimation\n",
    "    #K=20 corresponds to about 1e6 spins\n",
    "    \n",
    "    Tphi = 2e-6\n",
    "    T1 = 50e-6\n",
    "    #2 us and 50 us respectively\n",
    "    \n",
    "    gamma = gamma * 1e6  # 1e6 s = 1 MHz\n",
    "    for j in range(1, K+1):\n",
    "        t = np.pi/2**(j-1)/gamma #evolution time of the jth round of phase estimation\n",
    "        \n",
    "        p1 = 1 - np.exp(-t/(2*T1) )  # Probability that ancilla qubit decays\n",
    "        p2 = ( 1-np.exp(-t/Tphi) )/2 # Probability that ancilla qubit obtains a Pauli Z error\n",
    "\n",
    "        n0 = 0  # number of correct outcomes\n",
    "        n1 = 0  # number of wrong outcomes\n",
    "        n2 = 0  # number of ancilla decay, if n2 = repeats, preparation fails\n",
    "        for i in range(repeats):\n",
    "            if np.random.random() <= p1:\n",
    "                n2 += 1\n",
    "                if np.random.random() <= 0.5: \n",
    "                # When ancilla qubit decays, the measurement outcome becomes 0,1 randomly with euqal probability\n",
    "                    n0 += 1\n",
    "                else:\n",
    "                    n1 += 1\n",
    "            else:\n",
    "                if np.random.random()<= p2:\n",
    "                    n1 += 1\n",
    "                else:\n",
    "                    n0 += 1\n",
    "        \n",
    "        if n2 == repeats or n1 > n0:\n",
    "        # If n2 == repeats, there is no projection at all, this round phase estimation fails\n",
    "            fail = 1\n",
    "            return fail\n",
    "    fail = 0\n",
    "    return fail"
   ]
  },
  {
   "cell_type": "code",
   "execution_count": null,
   "metadata": {},
   "outputs": [],
   "source": [
    "simulation_rounds = 100000  \n",
    "# Because the simulation here does not involve density matrix, it is very fast\n",
    "# And we don't need to worry about the error bar.\n",
    "Repeats = [1 + 2*i for i in range(8)]\n",
    "Gammas = [2, 3, 5, 10]\n",
    "Fidelities = []\n",
    "for gamma in Gammas:\n",
    "    Fidelity = []\n",
    "    for repeats in Repeats:\n",
    "        fail  = 0\n",
    "        for _ in range(simulation_rounds):\n",
    "            fail += preparation(gamma, repeats, K = 20)\n",
    "        fidelity = 1- fail/simulation_rounds\n",
    "        Fidelity.append(fidelity)\n",
    "    Fidelities.append(Fidelity)"
   ]
  },
  {
   "cell_type": "code",
   "execution_count": null,
   "metadata": {},
   "outputs": [],
   "source": [
    "import matplotlib.pyplot as plt"
   ]
  },
  {
   "cell_type": "code",
   "execution_count": null,
   "metadata": {},
   "outputs": [],
   "source": [
    "plt.grid()\n",
    "for i in range(len(Gammas)):\n",
    "    gamma = Gammas[i]\n",
    "    Fidelity = Fidelities[i]\n",
    "\n",
    "    plt.plot(Repeats, Fidelity, linestyle = \"--\", marker = '.', label = r\"$\\gamma = {}$ MHz\".format(gamma))\n",
    "plt.legend(prop = {'size':13})\n",
    "plt.xlabel(r\"Repeat number $M$\", size = 15)\n",
    "plt.ylabel(r\"Fidelity lower bound\", size = 15)\n",
    "plt.xticks(Repeats)\n",
    "plt.savefig(\"AncillaDecoherence.pdf\", dpi =800)"
   ]
  },
  {
   "cell_type": "code",
   "execution_count": 72,
   "metadata": {},
   "outputs": [
    {
     "data": {
      "text/plain": [
       "'C:\\\\Users\\\\admin_01'"
      ]
     },
     "execution_count": 72,
     "metadata": {},
     "output_type": "execute_result"
    }
   ],
   "source": [
    "pwd"
   ]
  },
  {
   "cell_type": "code",
   "execution_count": null,
   "metadata": {},
   "outputs": [],
   "source": []
  }
 ],
 "metadata": {
  "kernelspec": {
   "display_name": "Python 3",
   "language": "python",
   "name": "python3"
  },
  "language_info": {
   "codemirror_mode": {
    "name": "ipython",
    "version": 3
   },
   "file_extension": ".py",
   "mimetype": "text/x-python",
   "name": "python",
   "nbconvert_exporter": "python",
   "pygments_lexer": "ipython3",
   "version": "3.7.4"
  }
 },
 "nbformat": 4,
 "nbformat_minor": 2
}
